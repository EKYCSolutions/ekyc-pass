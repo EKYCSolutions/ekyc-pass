{
 "cells": [
  {
   "cell_type": "code",
   "execution_count": 14,
   "metadata": {},
   "outputs": [],
   "source": [
    "import cv2\n",
    "from sklearn.cluster import KMeans\n",
    "import numpy as np\n",
    "\n",
    "def transform_matrix(matrix, p, vid_shape, gt_shape):\n",
    "    p = (p[0]*1280/vid_shape[1], p[1]*720/vid_shape[0])\n",
    "    px = (matrix[0][0]*p[0] + matrix[0][1]*p[1] + matrix[0][2]) / ((matrix[2][0]*p[0] + matrix[2][1]*p[1] + matrix[2][2]))\n",
    "    py = (matrix[1][0]*p[0] + matrix[1][1]*p[1] + matrix[1][2]) / ((matrix[2][0]*p[0] + matrix[2][1]*p[1] + matrix[2][2]))\n",
    "    print(px)\n",
    "    p_after = (int(px*gt_shape[1]/115) , int(py*gt_shape[0]/74))\n",
    "\n",
    "    return p_after\n"
   ]
  },
  {
   "cell_type": "code",
   "execution_count": 58,
   "metadata": {},
   "outputs": [
    {
     "name": "stdout",
     "output_type": "stream",
     "text": [
      "(1080, 1920, 3)\n"
     ]
    },
    {
     "data": {
      "text/plain": [
       "-1"
      ]
     },
     "execution_count": 58,
     "metadata": {},
     "output_type": "execute_result"
    },
    {
     "ename": "",
     "evalue": "",
     "output_type": "error",
     "traceback": [
      "\u001b[1;31mThe Kernel crashed while executing code in the the current cell or a previous cell. Please review the code in the cell(s) to identify a possible cause of the failure. Click <a href='https://aka.ms/vscodeJupyterKernelCrash'>here</a> for more info. View Jupyter <a href='command:jupyter.viewOutput'>log</a> for further details."
     ]
    }
   ],
   "source": [
    "import cv2\n",
    "import numpy as np\n",
    "\n",
    "# Load the image of the football pitch with four corners\n",
    "img_football_pitch = cv2.imread('/Users/menghang/Desktop/Screenshot 2023-08-03 at 12.20.57 PM.png')\n",
    "\n",
    "# Define the four corners of the football pitch image\n",
    "# Replace these values with the actual coordinates of the four corners in your image\n",
    "corners_img = np.array([[         \n",
    "        572.5,\n",
    "          43.5\n",
    "        ],\n",
    "        [\n",
    "          1435.0,\n",
    "          43.5\n",
    "        ],\n",
    "        [\n",
    "          1931.875,\n",
    "          440.375\n",
    "        ],\n",
    "        [\n",
    "          60.0,\n",
    "          449.75\n",
    "        ]], dtype=np.float32)\n",
    "\n",
    "# Load the template football pitch image in 2D\n",
    "img_template = cv2.imread('/Users/menghang/Desktop/ml-dev/football-server/tracker/inference/black.jpg')\n",
    "\n",
    "print(img_template.shape)\n",
    "# Define the four corners of the template football pitch\n",
    "# Replace these values with the actual coordinates of the four corners in your template\n",
    "corners_template = np.array([[\n",
    "          26.29411764705882,\n",
    "          21.352941176470587\n",
    "        ],\n",
    "        [\n",
    "          1893.941176470588,\n",
    "          21.352941176470587\n",
    "        ],\n",
    "        [\n",
    "          1899.8235294117646,\n",
    "          1059.5882352941176\n",
    "        ],\n",
    "        [\n",
    "          21.882352941176467,\n",
    "          1058.1176470588234\n",
    "        ]], dtype=np.float32)\n",
    "\n",
    "# Calculate the homography matrix using the four corners\n",
    "M, _ = cv2.findHomography(corners_img, corners_template)\n",
    "\n",
    "# Now, let's assume you have detected the positions of the players in the original image\n",
    "# Let's say the positions of the players are stored in a list called 'player_positions'\n",
    "# Each element in the list is a tuple containing the (x, y) coordinates of a player\n",
    "# Replace this with your actual list of detected player positions\n",
    "player_positions = [[430 , 463]]\n",
    "\n",
    "# Create an array of shape (N, 1, 2) from the player_positions list\n",
    "# where N is the number of players detected\n",
    "player_positions_array = np.array(player_positions, dtype=np.float32).reshape(-1, 1, 2)\n",
    "# Use the homography matrix to transform the player positions to the 2D template\n",
    "player_positions_2d = cv2.perspectiveTransform(player_positions_array, M)\n",
    "\n",
    "# Now, player_positions_2d contains the transformed positions of the players in the 2D template\n",
    "# You can use these positions to draw circles or markers on the template image to visualize the players\n",
    "\n",
    "# Display the transformed positions on the 2D template\n",
    "for player_position in player_positions_2d:\n",
    "    x, y = player_position[0]\n",
    "   \n",
    "    cv2.circle(img_template, (int(x),int(y)), 5, (0, 255, 0), -1)\n",
    "\n",
    "# Display the original image with the detected player positions\n",
    "cv2.imshow('Original Football Pitch', img_football_pitch)\n",
    "\n",
    "# Display the 2D template image with the transformed player positions\n",
    "cv2.imshow('2D Template', img_template)\n",
    "\n",
    "cv2.waitKey(0)\n",
    "cv2.destroyAllWindows()\n",
    "\n",
    "cv2.waitKey(1)"
   ]
  },
  {
   "cell_type": "code",
   "execution_count": null,
   "metadata": {},
   "outputs": [],
   "source": []
  },
  {
   "cell_type": "code",
   "execution_count": null,
   "metadata": {},
   "outputs": [],
   "source": []
  },
  {
   "cell_type": "code",
   "execution_count": null,
   "metadata": {},
   "outputs": [],
   "source": []
  }
 ],
 "metadata": {
  "kernelspec": {
   "display_name": "base",
   "language": "python",
   "name": "python3"
  },
  "language_info": {
   "codemirror_mode": {
    "name": "ipython",
    "version": 3
   },
   "file_extension": ".py",
   "mimetype": "text/x-python",
   "name": "python",
   "nbconvert_exporter": "python",
   "pygments_lexer": "ipython3",
   "version": "3.8.8"
  },
  "orig_nbformat": 4
 },
 "nbformat": 4,
 "nbformat_minor": 2
}
